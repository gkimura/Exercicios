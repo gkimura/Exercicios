{
 "cells": [
  {
   "cell_type": "markdown",
   "metadata": {
    "slideshow": {
     "slide_type": "slide"
    }
   },
   "source": [
    "# Tutorial\n",
    "\n",
    "## jupiter notebook e markdown"
   ]
  },
  {
   "cell_type": "markdown",
   "metadata": {
    "slideshow": {
     "slide_type": "slide"
    }
   },
   "source": [
    "## exibição de lista"
   ]
  },
  {
   "cell_type": "code",
   "execution_count": 6,
   "metadata": {
    "slideshow": {
     "slide_type": "fragment"
    }
   },
   "outputs": [
    {
     "name": "stdout",
     "output_type": "stream",
     "text": [
      "14.142135623730951\n"
     ]
    }
   ],
   "source": [
    "import math\n",
    "a = 10\n",
    "b = 20\n",
    "print (math.sqrt(a*b))"
   ]
  },
  {
   "cell_type": "code",
   "execution_count": null,
   "metadata": {
    "slideshow": {
     "slide_type": "subslide"
    }
   },
   "outputs": [],
   "source": [
    "![salt bae](https://thenypost.files.wordpress.com/2019/01/salt-bae-swiped-our-tips-then-fired-us-for-complaining.jpg )"
   ]
  },
  {
   "cell_type": "markdown",
   "metadata": {},
   "source": [
    "## Comandos do sistema "
   ]
  },
  {
   "cell_type": "code",
   "execution_count": 7,
   "metadata": {},
   "outputs": [
    {
     "name": "stdout",
     "output_type": "stream",
     "text": [
      " amb-exemplo\r\n",
      " amb-exemplo.yml\r\n",
      "'Área de Trabalho'\r\n",
      " cuda-repo-ubuntu1804-10-1-local-10.1.243-418.87.00_1.0-1_amd64.deb\r\n",
      " Documentos\r\n",
      " Downloads\r\n",
      " examples.desktop\r\n",
      " Imagens\r\n",
      " miniconda3\r\n",
      " Modelos\r\n",
      " mplot.yml\r\n",
      " Música\r\n",
      " Público\r\n",
      " test-fiep.ipynb\r\n",
      " Vídeos\r\n"
     ]
    }
   ],
   "source": [
    "!ls"
   ]
  },
  {
   "cell_type": "code",
   "execution_count": 9,
   "metadata": {},
   "outputs": [],
   "source": [
    "!cat /proc/meminfo > meminfo.txt"
   ]
  },
  {
   "cell_type": "code",
   "execution_count": 10,
   "metadata": {},
   "outputs": [
    {
     "name": "stdout",
     "output_type": "stream",
     "text": [
      "MemTotal:       16223748 kB\r\n",
      "MemFree:        10317512 kB\r\n",
      "MemAvailable:   12044412 kB\r\n",
      "Buffers:          165636 kB\r\n",
      "Cached:          1888700 kB\r\n",
      "SwapCached:            0 kB\r\n",
      "Active:          4035624 kB\r\n",
      "Inactive:        1198140 kB\r\n",
      "Active(anon):    3189188 kB\r\n",
      "Inactive(anon):   140804 kB\r\n",
      "Active(file):     846436 kB\r\n",
      "Inactive(file):  1057336 kB\r\n",
      "Unevictable:        7740 kB\r\n",
      "Mlocked:              16 kB\r\n",
      "SwapTotal:       2097148 kB\r\n",
      "SwapFree:        2097148 kB\r\n",
      "Dirty:               600 kB\r\n",
      "Writeback:             0 kB\r\n",
      "AnonPages:       3186776 kB\r\n",
      "Mapped:           717264 kB\r\n",
      "Shmem:            150568 kB\r\n",
      "KReclaimable:     161448 kB\r\n",
      "Slab:             272140 kB\r\n",
      "SReclaimable:     161448 kB\r\n",
      "SUnreclaim:       110692 kB\r\n",
      "KernelStack:       19168 kB\r\n",
      "PageTables:        60540 kB\r\n",
      "NFS_Unstable:          0 kB\r\n",
      "Bounce:                0 kB\r\n",
      "WritebackTmp:          0 kB\r\n",
      "CommitLimit:    10209020 kB\r\n",
      "Committed_AS:    8490724 kB\r\n",
      "VmallocTotal:   34359738367 kB\r\n",
      "VmallocUsed:           0 kB\r\n",
      "VmallocChunk:          0 kB\r\n",
      "Percpu:             5056 kB\r\n",
      "HardwareCorrupted:     0 kB\r\n",
      "AnonHugePages:         0 kB\r\n",
      "ShmemHugePages:        0 kB\r\n",
      "ShmemPmdMapped:        0 kB\r\n",
      "CmaTotal:              0 kB\r\n",
      "CmaFree:               0 kB\r\n",
      "HugePages_Total:       0\r\n",
      "HugePages_Free:        0\r\n",
      "HugePages_Rsvd:        0\r\n",
      "HugePages_Surp:        0\r\n",
      "Hugepagesize:       2048 kB\r\n",
      "Hugetlb:               0 kB\r\n",
      "DirectMap4k:      535772 kB\r\n",
      "DirectMap2M:     9752576 kB\r\n",
      "DirectMap1G:     6291456 kB\r\n"
     ]
    }
   ],
   "source": [
    "!cat meminfo.txt"
   ]
  },
  {
   "cell_type": "markdown",
   "metadata": {},
   "source": [
    "![qk](https://www.google.com/url?sa=i&rct=j&q=&esrc=s&source=images&cd=&cad=rja&uact=8&ved=2ahUKEwjm-ruF54DlAhUjFrkGHZ4bBAEQjRx6BAgBEAQ&url=https%3A%2F%2Fimgur.com%2Fgallery%2FkPU0poy&psig=AOvVaw1B3Ilw99qVuqgGANoKu50K&ust=1570216586435838)"
   ]
  },
  {
   "cell_type": "markdown",
   "metadata": {},
   "source": [
    "<img src = data:image/jpeg;base64,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 width = 50>"
   ]
  },
  {
   "cell_type": "markdown",
   "metadata": {},
   "source": [
    "* "
   ]
  },
  {
   "cell_type": "code",
   "execution_count": 2,
   "metadata": {},
   "outputs": [
    {
     "name": "stdout",
     "output_type": "stream",
     "text": [
      "Collecting package metadata (current_repodata.json): done\n",
      "Solving environment: done\n",
      "\n",
      "# All requested packages already installed.\n",
      "\n"
     ]
    }
   ],
   "source": [
    "!conda install matplotlib -y"
   ]
  },
  {
   "cell_type": "code",
   "execution_count": 9,
   "metadata": {},
   "outputs": [],
   "source": [
    "import matplotlib\n",
    "import matplotlib.pyplot as plt\n",
    "import numpy as np"
   ]
  },
  {
   "cell_type": "code",
   "execution_count": 10,
   "metadata": {},
   "outputs": [],
   "source": [
    "t = np.arange(0.0, 2.0, 0.01)\n",
    "s = 1 + np.sin(2*np.pi*t)"
   ]
  },
  {
   "cell_type": "code",
   "execution_count": 11,
   "metadata": {},
   "outputs": [
    {
     "name": "stdout",
     "output_type": "stream",
     "text": [
      "[0.   0.01 0.02 0.03 0.04 0.05 0.06 0.07 0.08 0.09 0.1  0.11 0.12 0.13\n",
      " 0.14 0.15 0.16 0.17 0.18 0.19 0.2  0.21 0.22 0.23 0.24 0.25 0.26 0.27\n",
      " 0.28 0.29 0.3  0.31 0.32 0.33 0.34 0.35 0.36 0.37 0.38 0.39 0.4  0.41\n",
      " 0.42 0.43 0.44 0.45 0.46 0.47 0.48 0.49 0.5  0.51 0.52 0.53 0.54 0.55\n",
      " 0.56 0.57 0.58 0.59 0.6  0.61 0.62 0.63 0.64 0.65 0.66 0.67 0.68 0.69\n",
      " 0.7  0.71 0.72 0.73 0.74 0.75 0.76 0.77 0.78 0.79 0.8  0.81 0.82 0.83\n",
      " 0.84 0.85 0.86 0.87 0.88 0.89 0.9  0.91 0.92 0.93 0.94 0.95 0.96 0.97\n",
      " 0.98 0.99 1.   1.01 1.02 1.03 1.04 1.05 1.06 1.07 1.08 1.09 1.1  1.11\n",
      " 1.12 1.13 1.14 1.15 1.16 1.17 1.18 1.19 1.2  1.21 1.22 1.23 1.24 1.25\n",
      " 1.26 1.27 1.28 1.29 1.3  1.31 1.32 1.33 1.34 1.35 1.36 1.37 1.38 1.39\n",
      " 1.4  1.41 1.42 1.43 1.44 1.45 1.46 1.47 1.48 1.49 1.5  1.51 1.52 1.53\n",
      " 1.54 1.55 1.56 1.57 1.58 1.59 1.6  1.61 1.62 1.63 1.64 1.65 1.66 1.67\n",
      " 1.68 1.69 1.7  1.71 1.72 1.73 1.74 1.75 1.76 1.77 1.78 1.79 1.8  1.81\n",
      " 1.82 1.83 1.84 1.85 1.86 1.87 1.88 1.89 1.9  1.91 1.92 1.93 1.94 1.95\n",
      " 1.96 1.97 1.98 1.99]\n"
     ]
    }
   ],
   "source": [
    "print (t)"
   ]
  },
  {
   "cell_type": "code",
   "execution_count": 15,
   "metadata": {},
   "outputs": [
    {
     "data": {
      "image/png": "[encoded data removed]",
      "text/plain": [
       "<Figure size 432x288 with 1 Axes>"
      ]
     },
     "metadata": {
      "needs_background": "light"
     },
     "output_type": "display_data"
    }
   ],
   "source": [
    "fig, ax = plt.subplots()\n",
    "ax.plot(t,s)\n",
    "ax.set(xlabel='time (s)', ylabel='voltage (mV)', title='Asbout as simple as it gets, folks')\n",
    "ax.grid()\n",
    "plt.show()\n"
   ]
  },
  {
   "cell_type": "code",
   "execution_count": 16,
   "metadata": {},
   "outputs": [
    {
     "data": {
      "text/plain": [
       "['ax', 'fig', 'matplotlib', 'np', 'plt', 's', 't']"
      ]
     },
     "execution_count": 16,
     "metadata": {},
     "output_type": "execute_result"
    }
   ],
   "source": [
    "%who_ls\n"
   ]
  },
  {
   "cell_type": "code",
   "execution_count": 17,
   "metadata": {},
   "outputs": [
    {
     "data": {
      "text/plain": [
       "['dom out  6 16:19:04 -03 2019']"
      ]
     },
     "execution_count": 17,
     "metadata": {},
     "output_type": "execute_result"
    }
   ],
   "source": [
    "%system date"
   ]
  },
  {
   "cell_type": "code",
   "execution_count": 18,
   "metadata": {},
   "outputs": [
    {
     "data": {
      "application/json": {
       "cell": {
        "!": "OSMagics",
        "HTML": "Other",
        "SVG": "Other",
        "bash": "Other",
        "capture": "ExecutionMagics",
        "debug": "ExecutionMagics",
        "file": "Other",
        "html": "DisplayMagics",
        "javascript": "DisplayMagics",
        "js": "DisplayMagics",
        "latex": "DisplayMagics",
        "markdown": "DisplayMagics",
        "perl": "Other",
        "prun": "ExecutionMagics",
        "pypy": "Other",
        "python": "Other",
        "python2": "Other",
        "python3": "Other",
        "ruby": "Other",
        "script": "ScriptMagics",
        "sh": "Other",
        "svg": "DisplayMagics",
        "sx": "OSMagics",
        "system": "OSMagics",
        "time": "ExecutionMagics",
        "timeit": "ExecutionMagics",
        "writefile": "OSMagics"
       },
       "line": {
        "alias": "OSMagics",
        "alias_magic": "BasicMagics",
        "autoawait": "AsyncMagics",
        "autocall": "AutoMagics",
        "automagic": "AutoMagics",
        "autosave": "KernelMagics",
        "bookmark": "OSMagics",
        "cat": "Other",
        "cd": "OSMagics",
        "clear": "KernelMagics",
        "colors": "BasicMagics",
        "conda": "PackagingMagics",
        "config": "ConfigMagics",
        "connect_info": "KernelMagics",
        "cp": "Other",
        "debug": "ExecutionMagics",
        "dhist": "OSMagics",
        "dirs": "OSMagics",
        "doctest_mode": "BasicMagics",
        "ed": "Other",
        "edit": "KernelMagics",
        "env": "OSMagics",
        "gui": "BasicMagics",
        "hist": "Other",
        "history": "HistoryMagics",
        "killbgscripts": "ScriptMagics",
        "ldir": "Other",
        "less": "KernelMagics",
        "lf": "Other",
        "lk": "Other",
        "ll": "Other",
        "load": "CodeMagics",
        "load_ext": "ExtensionMagics",
        "loadpy": "CodeMagics",
        "logoff": "LoggingMagics",
        "logon": "LoggingMagics",
        "logstart": "LoggingMagics",
        "logstate": "LoggingMagics",
        "logstop": "LoggingMagics",
        "ls": "Other",
        "lsmagic": "BasicMagics",
        "lx": "Other",
        "macro": "ExecutionMagics",
        "magic": "BasicMagics",
        "man": "KernelMagics",
        "matplotlib": "PylabMagics",
        "mkdir": "Other",
        "more": "KernelMagics",
        "mv": "Other",
        "notebook": "BasicMagics",
        "page": "BasicMagics",
        "pastebin": "CodeMagics",
        "pdb": "ExecutionMagics",
        "pdef": "NamespaceMagics",
        "pdoc": "NamespaceMagics",
        "pfile": "NamespaceMagics",
        "pinfo": "NamespaceMagics",
        "pinfo2": "NamespaceMagics",
        "pip": "PackagingMagics",
        "popd": "OSMagics",
        "pprint": "BasicMagics",
        "precision": "BasicMagics",
        "prun": "ExecutionMagics",
        "psearch": "NamespaceMagics",
        "psource": "NamespaceMagics",
        "pushd": "OSMagics",
        "pwd": "OSMagics",
        "pycat": "OSMagics",
        "pylab": "PylabMagics",
        "qtconsole": "KernelMagics",
        "quickref": "BasicMagics",
        "recall": "HistoryMagics",
        "rehashx": "OSMagics",
        "reload_ext": "ExtensionMagics",
        "rep": "Other",
        "rerun": "HistoryMagics",
        "reset": "NamespaceMagics",
        "reset_selective": "NamespaceMagics",
        "rm": "Other",
        "rmdir": "Other",
        "run": "ExecutionMagics",
        "save": "CodeMagics",
        "sc": "OSMagics",
        "set_env": "OSMagics",
        "store": "StoreMagics",
        "sx": "OSMagics",
        "system": "OSMagics",
        "tb": "ExecutionMagics",
        "time": "ExecutionMagics",
        "timeit": "ExecutionMagics",
        "unalias": "OSMagics",
        "unload_ext": "ExtensionMagics",
        "who": "NamespaceMagics",
        "who_ls": "NamespaceMagics",
        "whos": "NamespaceMagics",
        "xdel": "NamespaceMagics",
        "xmode": "BasicMagics"
       }
      },
      "text/plain": [
       "Available line magics:\n",
       "%alias  %alias_magic  %autoawait  %autocall  %automagic  %autosave  %bookmark  %cat  %cd  %clear  %colors  %conda  %config  %connect_info  %cp  %debug  %dhist  %dirs  %doctest_mode  %ed  %edit  %env  %gui  %hist  %history  %killbgscripts  %ldir  %less  %lf  %lk  %ll  %load  %load_ext  %loadpy  %logoff  %logon  %logstart  %logstate  %logstop  %ls  %lsmagic  %lx  %macro  %magic  %man  %matplotlib  %mkdir  %more  %mv  %notebook  %page  %pastebin  %pdb  %pdef  %pdoc  %pfile  %pinfo  %pinfo2  %pip  %popd  %pprint  %precision  %prun  %psearch  %psource  %pushd  %pwd  %pycat  %pylab  %qtconsole  %quickref  %recall  %rehashx  %reload_ext  %rep  %rerun  %reset  %reset_selective  %rm  %rmdir  %run  %save  %sc  %set_env  %store  %sx  %system  %tb  %time  %timeit  %unalias  %unload_ext  %who  %who_ls  %whos  %xdel  %xmode\n",
       "\n",
       "Available cell magics:\n",
       "%%!  %%HTML  %%SVG  %%bash  %%capture  %%debug  %%file  %%html  %%javascript  %%js  %%latex  %%markdown  %%perl  %%prun  %%pypy  %%python  %%python2  %%python3  %%ruby  %%script  %%sh  %%svg  %%sx  %%system  %%time  %%timeit  %%writefile\n",
       "\n",
       "Automagic is ON, % prefix IS NOT needed for line magics."
      ]
     },
     "execution_count": 18,
     "metadata": {},
     "output_type": "execute_result"
    }
   ],
   "source": [
    "%lsmagic"
   ]
  },
  {
   "cell_type": "code",
   "execution_count": 1,
   "metadata": {},
   "outputs": [
    {
     "data": {
      "application/json": {
       "cell": {
        "!": "OSMagics",
        "HTML": "Other",
        "SVG": "Other",
        "bash": "Other",
        "capture": "ExecutionMagics",
        "debug": "ExecutionMagics",
        "file": "Other",
        "html": "DisplayMagics",
        "javascript": "DisplayMagics",
        "js": "DisplayMagics",
        "latex": "DisplayMagics",
        "markdown": "DisplayMagics",
        "perl": "Other",
        "prun": "ExecutionMagics",
        "pypy": "Other",
        "python": "Other",
        "python2": "Other",
        "python3": "Other",
        "ruby": "Other",
        "script": "ScriptMagics",
        "sh": "Other",
        "svg": "DisplayMagics",
        "sx": "OSMagics",
        "system": "OSMagics",
        "time": "ExecutionMagics",
        "timeit": "ExecutionMagics",
        "writefile": "OSMagics"
       },
       "line": {
        "alias": "OSMagics",
        "alias_magic": "BasicMagics",
        "autoawait": "AsyncMagics",
        "autocall": "AutoMagics",
        "automagic": "AutoMagics",
        "autosave": "KernelMagics",
        "bookmark": "OSMagics",
        "cat": "Other",
        "cd": "OSMagics",
        "clear": "KernelMagics",
        "colors": "BasicMagics",
        "conda": "PackagingMagics",
        "config": "ConfigMagics",
        "connect_info": "KernelMagics",
        "cp": "Other",
        "debug": "ExecutionMagics",
        "dhist": "OSMagics",
        "dirs": "OSMagics",
        "doctest_mode": "BasicMagics",
        "ed": "Other",
        "edit": "KernelMagics",
        "env": "OSMagics",
        "gui": "BasicMagics",
        "hist": "Other",
        "history": "HistoryMagics",
        "killbgscripts": "ScriptMagics",
        "ldir": "Other",
        "less": "KernelMagics",
        "lf": "Other",
        "lk": "Other",
        "ll": "Other",
        "load": "CodeMagics",
        "load_ext": "ExtensionMagics",
        "loadpy": "CodeMagics",
        "logoff": "LoggingMagics",
        "logon": "LoggingMagics",
        "logstart": "LoggingMagics",
        "logstate": "LoggingMagics",
        "logstop": "LoggingMagics",
        "ls": "Other",
        "lsmagic": "BasicMagics",
        "lx": "Other",
        "macro": "ExecutionMagics",
        "magic": "BasicMagics",
        "man": "KernelMagics",
        "matplotlib": "PylabMagics",
        "mkdir": "Other",
        "more": "KernelMagics",
        "mv": "Other",
        "notebook": "BasicMagics",
        "page": "BasicMagics",
        "pastebin": "CodeMagics",
        "pdb": "ExecutionMagics",
        "pdef": "NamespaceMagics",
        "pdoc": "NamespaceMagics",
        "pfile": "NamespaceMagics",
        "pinfo": "NamespaceMagics",
        "pinfo2": "NamespaceMagics",
        "pip": "PackagingMagics",
        "popd": "OSMagics",
        "pprint": "BasicMagics",
        "precision": "BasicMagics",
        "prun": "ExecutionMagics",
        "psearch": "NamespaceMagics",
        "psource": "NamespaceMagics",
        "pushd": "OSMagics",
        "pwd": "OSMagics",
        "pycat": "OSMagics",
        "pylab": "PylabMagics",
        "qtconsole": "KernelMagics",
        "quickref": "BasicMagics",
        "recall": "HistoryMagics",
        "rehashx": "OSMagics",
        "reload_ext": "ExtensionMagics",
        "rep": "Other",
        "rerun": "HistoryMagics",
        "reset": "NamespaceMagics",
        "reset_selective": "NamespaceMagics",
        "rm": "Other",
        "rmdir": "Other",
        "run": "ExecutionMagics",
        "save": "CodeMagics",
        "sc": "OSMagics",
        "set_env": "OSMagics",
        "store": "StoreMagics",
        "sx": "OSMagics",
        "system": "OSMagics",
        "tb": "ExecutionMagics",
        "time": "ExecutionMagics",
        "timeit": "ExecutionMagics",
        "unalias": "OSMagics",
        "unload_ext": "ExtensionMagics",
        "who": "NamespaceMagics",
        "who_ls": "NamespaceMagics",
        "whos": "NamespaceMagics",
        "xdel": "NamespaceMagics",
        "xmode": "BasicMagics"
       }
      },
      "text/plain": [
       "Available line magics:\n",
       "%alias  %alias_magic  %autoawait  %autocall  %automagic  %autosave  %bookmark  %cat  %cd  %clear  %colors  %conda  %config  %connect_info  %cp  %debug  %dhist  %dirs  %doctest_mode  %ed  %edit  %env  %gui  %hist  %history  %killbgscripts  %ldir  %less  %lf  %lk  %ll  %load  %load_ext  %loadpy  %logoff  %logon  %logstart  %logstate  %logstop  %ls  %lsmagic  %lx  %macro  %magic  %man  %matplotlib  %mkdir  %more  %mv  %notebook  %page  %pastebin  %pdb  %pdef  %pdoc  %pfile  %pinfo  %pinfo2  %pip  %popd  %pprint  %precision  %prun  %psearch  %psource  %pushd  %pwd  %pycat  %pylab  %qtconsole  %quickref  %recall  %rehashx  %reload_ext  %rep  %rerun  %reset  %reset_selective  %rm  %rmdir  %run  %save  %sc  %set_env  %store  %sx  %system  %tb  %time  %timeit  %unalias  %unload_ext  %who  %who_ls  %whos  %xdel  %xmode\n",
       "\n",
       "Available cell magics:\n",
       "%%!  %%HTML  %%SVG  %%bash  %%capture  %%debug  %%file  %%html  %%javascript  %%js  %%latex  %%markdown  %%perl  %%prun  %%pypy  %%python  %%python2  %%python3  %%ruby  %%script  %%sh  %%svg  %%sx  %%system  %%time  %%timeit  %%writefile\n",
       "\n",
       "Automagic is ON, % prefix IS NOT needed for line magics."
      ]
     },
     "execution_count": 1,
     "metadata": {},
     "output_type": "execute_result"
    }
   ],
   "source": [
    "%lsmagic\n"
   ]
  },
  {
   "cell_type": "code",
   "execution_count": null,
   "metadata": {},
   "outputs": [],
   "source": []
  }
 ],
 "metadata": {
  "celltoolbar": "Slideshow",
  "kernelspec": {
   "display_name": "Python 3",
   "language": "python",
   "name": "python3"
  },
  "language_info": {
   "codemirror_mode": {
    "name": "ipython",
    "version": 3
   },
   "file_extension": ".py",
   "mimetype": "text/x-python",
   "name": "python",
   "nbconvert_exporter": "python",
   "pygments_lexer": "ipython3",
   "version": "3.7.4"
  }
 },
 "nbformat": 4,
 "nbformat_minor": 2
}
