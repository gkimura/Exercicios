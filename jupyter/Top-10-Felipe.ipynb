{
 "cells": [
  {
   "cell_type": "markdown",
   "metadata": {
    "slideshow": {
     "slide_type": "slide"
    }
   },
   "source": [
    "# Atividade Jupter\n",
    "\n",
    "Criar 10 slides com imagens aleatórias\n",
    "\n",
    "**Começando agora:**\n",
    "\n",
    ">A certificação de metodologias que nos auxiliam a lidar com a consolidação das estruturas maximiza as possibilidades por conta do orçamento setorial.\n",
    "\n",
    "![lerolero](./../../Downloads/imagens/lerolero.jpg)\n"
   ]
  },
  {
   "cell_type": "markdown",
   "metadata": {
    "slideshow": {
     "slide_type": "slide"
    }
   },
   "source": [
    "# Segundo Slide\n",
    "\n",
    "## Mais um tópico:\n",
    "\n",
    "> No mundo atual, o acompanhamento das preferências de consumo apresenta tendências no sentido de aprovar a manutenção do processo de comunicação como um todo.\n",
    "\n",
    "![img](./../../Downloads/imagens/consumo-Brasil.jpg)\n",
    "\n",
    "\n"
   ]
  },
  {
   "cell_type": "markdown",
   "metadata": {
    "slideshow": {
     "slide_type": "slide"
    }
   },
   "source": [
    "\n",
    "# Terceiro Slide\n",
    "\n",
    "\n",
    "> Podemos já vislumbrar o modo pelo qual a contínua expansão de nossa atividade desafia a capacidade de equalização das condições financeiras e administrativas exigidas.\n",
    "\n",
    "\n",
    "![graph](./../../Downloads/imagens/divida-publica-pagamento_03.png)\n"
   ]
  },
  {
   "cell_type": "markdown",
   "metadata": {
    "slideshow": {
     "slide_type": "slide"
    }
   },
   "source": [
    "# Quarto Slide\n",
    "\n",
    "> Mais um emocionante gráfico sobre a dívida pública:\n",
    "\n",
    "![divida](./../../Downloads/imagens/dvida.png)"
   ]
  },
  {
   "cell_type": "markdown",
   "metadata": {
    "slideshow": {
     "slide_type": "slide"
    }
   },
   "source": [
    "# Quinto Slide\n",
    "\n",
    "> O empenho em analisar o comprometimento entre as equipes afeta positivamente a correta previsão do processo de comunicação como um todo.\n",
    "\n",
    "![icone](./../../Downloads/imagens/bad-pig-icon.png)\n",
    "\n"
   ]
  },
  {
   "cell_type": "markdown",
   "metadata": {
    "slideshow": {
     "slide_type": "slide"
    }
   },
   "source": [
    "# Sexto Slide\n",
    "\n",
    "> A prática cotidiana prova que a consolidação das estruturas promove a alavancagem dos índices pretendidos.\n",
    "\n",
    "![dip](./../../Downloads/imagens/diploma-icon.png)"
   ]
  },
  {
   "cell_type": "markdown",
   "metadata": {
    "slideshow": {
     "slide_type": "slide"
    }
   },
   "source": [
    "# Sétimo Slide\n",
    "\n",
    " > Desta maneira, a consulta aos diversos militantes é uma das consequências dos níveis de motivação departamental.\n",
    " \n",
    " ![el](./../../Downloads/imagens/snowman-icon.png)\n"
   ]
  },
  {
   "cell_type": "markdown",
   "metadata": {
    "slideshow": {
     "slide_type": "slide"
    }
   },
   "source": [
    "# Oitavo Slide\n",
    "\n",
    "> É importante questionar o quanto o desenvolvimento contínuo de distintas formas de atuação é uma das consequências de alternativas às soluções ortodoxas.\n",
    "\n",
    "![imgm](./../../Downloads/imagens/owl-icon.png)"
   ]
  },
  {
   "cell_type": "markdown",
   "metadata": {
    "slideshow": {
     "slide_type": "slide"
    }
   },
   "source": [
    "# Nono Slide\n",
    "\n",
    "## Agora assunto importante: função densidade de probabilidade (FDP)\n",
    "\n",
    "> m teoria das probabilidades e estatística, a função densidade de probabilidade (FDP), ou densidade de uma variável aleatória contínua, é uma função que descreve a probabilidade relativa de uma variável aleatória tomar um valor dado. A probabilidade da variável aleatória cair em uma faixa particular é dada pela integral da densidade dessa variável sobre tal faixa...\n",
    "\n",
    "![formular](./../../Downloads/imagens/0_I190918_132310_1594565oTextTRMRMMGLPICT000192907268o.jpg)"
   ]
  },
  {
   "cell_type": "markdown",
   "metadata": {
    "slideshow": {
     "slide_type": "slide"
    }
   },
   "source": [
    "# Pronto\n",
    "\n",
    "## Aguentou até aqui\n",
    "\n",
    "![fi](./../../Downloads/imagens/cup-icon.png)"
   ]
  }
 ],
 "metadata": {
  "celltoolbar": "Slideshow",
  "kernelspec": {
   "display_name": "Python [conda env:test] *",
   "language": "python",
   "name": "conda-env-test-py"
  },
  "language_info": {
   "codemirror_mode": {
    "name": "ipython",
    "version": 3
   },
   "file_extension": ".py",
   "mimetype": "text/x-python",
   "name": "python",
   "nbconvert_exporter": "python",
   "pygments_lexer": "ipython3",
   "version": "3.7.4"
  }
 },
 "nbformat": 4,
 "nbformat_minor": 2
}
