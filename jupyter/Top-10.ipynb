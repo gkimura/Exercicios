{
 "cells": [
  {
   "cell_type": "markdown",
   "metadata": {
    "slideshow": {
     "slide_type": "slide"
    }
   },
   "source": [
    "# Top 10 "
   ]
  },
  {
   "cell_type": "markdown",
   "metadata": {
    "slideshow": {
     "slide_type": "subslide"
    }
   },
   "source": [
    "![qk](https://i.imgur.com/8hnWJjq.jpg)"
   ]
  },
  {
   "cell_type": "markdown",
   "metadata": {
    "slideshow": {
     "slide_type": "subslide"
    }
   },
   "source": [
    "![otter](https://cdn.mainichi.jp/vol1/2018/04/19/20180419p2a00m0na007000p/8.jpg?1)"
   ]
  },
  {
   "cell_type": "markdown",
   "metadata": {
    "slideshow": {
     "slide_type": "subslide"
    }
   },
   "source": [
    "![koala](https://amp.businessinsider.com/images/5cdd69ed021b4c04584f2913-750-562.jpg)"
   ]
  },
  {
   "cell_type": "markdown",
   "metadata": {
    "slideshow": {
     "slide_type": "subslide"
    }
   },
   "source": [
    "![fox](https://i.redd.it/yf01w6z992221.jpg)"
   ]
  },
  {
   "cell_type": "markdown",
   "metadata": {
    "slideshow": {
     "slide_type": "subslide"
    }
   },
   "source": [
    "![panda](http://pm1.narvii.com/6448/b1a4c27f2a53e9365351983b56f6a12a0d2eb9dd_00.jpg)"
   ]
  },
  {
   "cell_type": "markdown",
   "metadata": {
    "slideshow": {
     "slide_type": "subslide"
    }
   },
   "source": [
    "![dog](https://i.redd.it/lxumzup872wz.jpg)"
   ]
  },
  {
   "cell_type": "markdown",
   "metadata": {
    "slideshow": {
     "slide_type": "subslide"
    }
   },
   "source": [
    "![cat](https://cdn.pixabay.com/photo/2017/02/20/18/03/cat-2083492_960_720.jpg)"
   ]
  },
  {
   "cell_type": "markdown",
   "metadata": {
    "slideshow": {
     "slide_type": "subslide"
    }
   },
   "source": [
    "![hedgehog](https://i2-prod.mirror.co.uk/incoming/article20090951.ece/ALTERNATES/s1200/0_I190918_132310_1594565oTextTRMRMMGLPICT000192907268o.jpg)"
   ]
  },
  {
   "cell_type": "markdown",
   "metadata": {
    "slideshow": {
     "slide_type": "subslide"
    }
   },
   "source": [
    "![squirrel](https://upload.wikimedia.org/wikipedia/commons/thumb/e/e2/Kurre6.jpg/200px-Kurre6.jpg)"
   ]
  },
  {
   "cell_type": "markdown",
   "metadata": {
    "slideshow": {
     "slide_type": "subslide"
    }
   },
   "source": [
    "![raccoon](https://i2.wp.com/cuteandkids.com/wp-content/uploads/2017/04/PUMPKIN-THE-RACCOON-INSTAGRAM-BOOK-CUTEANDKIDS-BLOG.png?resize=599%2C598&ssl=1)"
   ]
  }
 ],
 "metadata": {
  "celltoolbar": "Slideshow",
  "kernelspec": {
   "display_name": "Python [conda env:test] *",
   "language": "python",
   "name": "conda-env-test-py"
  },
  "language_info": {
   "codemirror_mode": {
    "name": "ipython",
    "version": 3
   },
   "file_extension": ".py",
   "mimetype": "text/x-python",
   "name": "python",
   "nbconvert_exporter": "python",
   "pygments_lexer": "ipython3",
   "version": "3.7.4"
  }
 },
 "nbformat": 4,
 "nbformat_minor": 2
}
